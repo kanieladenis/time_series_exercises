{
 "cells": [
  {
   "cell_type": "markdown",
   "id": "e2fd1c00",
   "metadata": {},
   "source": [
    "# Prepare Exercise"
   ]
  },
  {
   "cell_type": "markdown",
   "id": "709634af",
   "metadata": {},
   "source": [
    "### Usoing Store Data\n",
    "1. Convert date column to datetime format."
   ]
  },
  {
   "cell_type": "markdown",
   "id": "37af1daf",
   "metadata": {},
   "source": [
    "2. Plot the distribution of sale_amount and item_price."
   ]
  },
  {
   "cell_type": "markdown",
   "id": "2d65379d",
   "metadata": {},
   "source": [
    "3. Set the index to be the datetime variable."
   ]
  },
  {
   "cell_type": "markdown",
   "id": "0a00434a",
   "metadata": {},
   "source": [
    "4. Add a 'month' and 'day of week' column to your dataframe."
   ]
  },
  {
   "cell_type": "markdown",
   "id": "108db6ce",
   "metadata": {},
   "source": [
    "5. Add a column to your dataframe, sales_total, which is a derived from sale_amount (total items) and item_price"
   ]
  },
  {
   "cell_type": "markdown",
   "id": "09316a6c",
   "metadata": {},
   "source": [
    "6. Make sure all the work that you have done above is reproducible. That is, you should put the code above into separate functions and be able to re-run the functions and get the same results"
   ]
  },
  {
   "cell_type": "markdown",
   "id": "909abfaf",
   "metadata": {},
   "source": []
  },
  {
   "cell_type": "markdown",
   "id": "331702eb",
   "metadata": {},
   "source": []
  },
  {
   "cell_type": "markdown",
   "id": "cc027261",
   "metadata": {},
   "source": []
  },
  {
   "cell_type": "markdown",
   "id": "c022a781",
   "metadata": {},
   "source": []
  },
  {
   "cell_type": "markdown",
   "id": "a0d1fe1b",
   "metadata": {},
   "source": []
  }
 ],
 "metadata": {
  "kernelspec": {
   "display_name": "Python 3",
   "language": "python",
   "name": "python3"
  },
  "language_info": {
   "codemirror_mode": {
    "name": "ipython",
    "version": 3
   },
   "file_extension": ".py",
   "mimetype": "text/x-python",
   "name": "python",
   "nbconvert_exporter": "python",
   "pygments_lexer": "ipython3",
   "version": "3.8.8"
  }
 },
 "nbformat": 4,
 "nbformat_minor": 5
}
