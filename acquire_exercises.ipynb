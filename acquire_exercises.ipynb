{
 "cells": [
  {
   "cell_type": "markdown",
   "id": "aaa31848",
   "metadata": {},
   "source": [
    "1. Using the code from the lesson as a guide and the REST API from https://python.zgulde.net/api/v1/items as we did in the lesson, create a dataframe named items that has all of the data for items."
   ]
  },
  {
   "cell_type": "code",
   "execution_count": null,
   "id": "3de0f23b",
   "metadata": {},
   "outputs": [],
   "source": [
    "import requests\n",
    "import pandas as pd\n",
    "import numpy as np"
   ]
  },
  {
   "cell_type": "code",
   "execution_count": null,
   "id": "3d3d560e",
   "metadata": {},
   "outputs": [],
   "source": [
    "url = 'https://python.zgulde.net/api/v1/items'\n",
    "\n",
    "response = requests.get(url)\n",
    "response.json()"
   ]
  },
  {
   "cell_type": "code",
   "execution_count": null,
   "id": "2bf103da",
   "metadata": {},
   "outputs": [],
   "source": [
    "response.status_code"
   ]
  },
  {
   "cell_type": "code",
   "execution_count": null,
   "id": "1a267141",
   "metadata": {},
   "outputs": [],
   "source": [
    "response.json()"
   ]
  },
  {
   "cell_type": "code",
   "execution_count": null,
   "id": "b522a085",
   "metadata": {},
   "outputs": [],
   "source": [
    "response.json()['payload']"
   ]
  },
  {
   "cell_type": "code",
   "execution_count": null,
   "id": "551c5eeb",
   "metadata": {},
   "outputs": [],
   "source": [
    "response.json()['payload'].keys()"
   ]
  },
  {
   "cell_type": "code",
   "execution_count": null,
   "id": "ab17c934",
   "metadata": {},
   "outputs": [],
   "source": [
    "items = pd.DataFrame(response.json()['payload']['items'])\n",
    "items.head()"
   ]
  },
  {
   "cell_type": "code",
   "execution_count": null,
   "id": "137244fa",
   "metadata": {},
   "outputs": [],
   "source": [
    "data = response.json()\n",
    "data"
   ]
  },
  {
   "cell_type": "code",
   "execution_count": null,
   "id": "7ad8f843",
   "metadata": {},
   "outputs": [],
   "source": [
    "data['payload']['next_page']"
   ]
  },
  {
   "cell_type": "code",
   "execution_count": null,
   "id": "b34cf753",
   "metadata": {},
   "outputs": [],
   "source": [
    "base_url = 'https://python.zgulde.net'\n",
    "base_url + data['payload']['next_page']"
   ]
  },
  {
   "cell_type": "code",
   "execution_count": null,
   "id": "9637e9bd",
   "metadata": {},
   "outputs": [],
   "source": [
    "response = requests.get(base_url + data['payload']['next_page'])\n",
    "data = response.json()\n",
    "data"
   ]
  },
  {
   "cell_type": "code",
   "execution_count": null,
   "id": "7c4754f6",
   "metadata": {
    "scrolled": true
   },
   "outputs": [],
   "source": [
    "items = pd.concat([items, pd.DataFrame(data['payload']['items'])]).reset_index(drop=True)\n",
    "items.head()"
   ]
  },
  {
   "cell_type": "code",
   "execution_count": null,
   "id": "4b1f94fd",
   "metadata": {},
   "outputs": [],
   "source": [
    "response = requests.get(base_url + data['payload']['next_page'])\n",
    "data = response.json()\n",
    "items = pd.concat([items, pd.DataFrame(data['payload']['items'])]).reset_index(drop=True)\n",
    "items.head()"
   ]
  },
  {
   "cell_type": "markdown",
   "id": "43d080db",
   "metadata": {},
   "source": [
    "## <font color = 'Red'> Ryan's Way"
   ]
  },
  {
   "cell_type": "code",
   "execution_count": null,
   "id": "94388ad5",
   "metadata": {},
   "outputs": [],
   "source": [
    "host = \"https://python.zgulde.net/\"\n",
    "api = \"api/v1/\"\n",
    "endpoint = 'items'\n",
    "\n",
    "url = host + api + endpoint\n",
    "\n",
    "response = requests.get(url)\n",
    "response"
   ]
  },
  {
   "cell_type": "code",
   "execution_count": null,
   "id": "82e73c6d",
   "metadata": {},
   "outputs": [],
   "source": [
    "payload = response.json()['payload']\n",
    "\n",
    "contents = payload[endpoint]\n",
    "\n",
    "df = pd.DataFrame(contents)\n",
    "\n",
    "next_page = payload['next_page']"
   ]
  },
  {
   "cell_type": "code",
   "execution_count": null,
   "id": "9e2122d3",
   "metadata": {},
   "outputs": [],
   "source": [
    "next_page"
   ]
  },
  {
   "cell_type": "code",
   "execution_count": null,
   "id": "9027a988",
   "metadata": {
    "scrolled": true
   },
   "outputs": [],
   "source": [
    "df.head()"
   ]
  },
  {
   "cell_type": "code",
   "execution_count": null,
   "id": "3ef027f8",
   "metadata": {},
   "outputs": [],
   "source": [
    "url = host + next_page\n",
    "\n",
    "response = requests.get(url)\n",
    "\n",
    "payload = response.json()['payload']\n",
    "\n",
    "contents = payload[endpoint]\n",
    "\n",
    "next_page = payload['next_page']\n",
    "\n",
    "df = pd.concat([df, pd.DataFrame(contents)])\n",
    "\n",
    "df.head()"
   ]
  },
  {
   "cell_type": "code",
   "execution_count": null,
   "id": "00261936",
   "metadata": {},
   "outputs": [],
   "source": [
    "def get_api_data(endpoint):\n",
    "    \"\"\"\n",
    "    Function will pull data from API interface in a while loop\n",
    "    \"\"\"\n",
    "    host = \"https://python.zgulde.net/\"\n",
    "    api = \"api/v1/\"\n",
    "\n",
    "    url = host + api + endpoint\n",
    "\n",
    "    response = requests.get(url).json()\n",
    "\n",
    "    payload = response['payload']\n",
    "\n",
    "    contents = payload[endpoint]\n",
    "\n",
    "    df = pd.DataFrame(contents)\n",
    "\n",
    "    next_page = payload['next_page']\n",
    "\n",
    "    while next_page:\n",
    "\n",
    "        url = host + next_page\n",
    "\n",
    "        response = requests.get(url).json()\n",
    "\n",
    "        payload = response['payload']\n",
    "\n",
    "        contents = pd.DataFrame(payload[endpoint])\n",
    "\n",
    "        df = pd.concat([df, contents])\n",
    "\n",
    "        df = df.reset_index(drop=True)\n",
    "\n",
    "        next_page = payload['next_page']\n",
    "        \n",
    "    return df"
   ]
  },
  {
   "cell_type": "code",
   "execution_count": null,
   "id": "8ec305de",
   "metadata": {
    "scrolled": true
   },
   "outputs": [],
   "source": [
    "df = get_api_data(endpoint='items')\n",
    "items = df\n",
    "items.shape"
   ]
  },
  {
   "cell_type": "markdown",
   "id": "97eeb08b",
   "metadata": {},
   "source": [
    "## <font color = 'blue'>2. Do the same thing, but for stores (https://python.zgulde.net/api/v1/stores)"
   ]
  },
  {
   "cell_type": "code",
   "execution_count": null,
   "id": "81f5c609",
   "metadata": {},
   "outputs": [],
   "source": [
    "url = 'https://python.zgulde.net/api/v1/stores'\n",
    "base_url = 'https://python.zgulde.net'\n",
    "response = requests.get(url)\n",
    "response"
   ]
  },
  {
   "cell_type": "code",
   "execution_count": null,
   "id": "53f2060a",
   "metadata": {},
   "outputs": [],
   "source": [
    "response.json().keys()"
   ]
  },
  {
   "cell_type": "code",
   "execution_count": null,
   "id": "11019ba3",
   "metadata": {},
   "outputs": [],
   "source": [
    "response.json()['payload']"
   ]
  },
  {
   "cell_type": "code",
   "execution_count": null,
   "id": "3842183d",
   "metadata": {},
   "outputs": [],
   "source": [
    "response.json()['payload'].keys()"
   ]
  },
  {
   "cell_type": "code",
   "execution_count": null,
   "id": "ca380b44",
   "metadata": {},
   "outputs": [],
   "source": [
    "response.json()['payload']['stores']"
   ]
  },
  {
   "cell_type": "code",
   "execution_count": null,
   "id": "4cb248d5",
   "metadata": {},
   "outputs": [],
   "source": [
    "stores = response.json()['payload']['stores']\n",
    "stores"
   ]
  },
  {
   "cell_type": "code",
   "execution_count": null,
   "id": "b392da2e",
   "metadata": {},
   "outputs": [],
   "source": [
    "stores = pd.DataFrame(stores)\n",
    "stores"
   ]
  },
  {
   "cell_type": "code",
   "execution_count": null,
   "id": "f81d60c2",
   "metadata": {},
   "outputs": [],
   "source": [
    "df = get_api_data(endpoint='stores')\n",
    "stores = df\n",
    "stores.shape"
   ]
  },
  {
   "cell_type": "markdown",
   "id": "5a5dffbf",
   "metadata": {},
   "source": [
    "## <font color = 'blue'>3. Extract the data for sales (https://python.zgulde.net/api/v1/sales). There are a lot of pages of data here, so your code will need to be a little more complex. Your code should continue fetching data from the next page until all of the data is extracted."
   ]
  },
  {
   "cell_type": "code",
   "execution_count": null,
   "id": "61481a91",
   "metadata": {},
   "outputs": [],
   "source": [
    "url = 'https://python.zgulde.net/api/v1/sales'\n",
    "base_url = 'https://python.zgulde.net'\n",
    "response = requests.get(url)\n",
    "response"
   ]
  },
  {
   "cell_type": "code",
   "execution_count": null,
   "id": "ef1fd072",
   "metadata": {},
   "outputs": [],
   "source": [
    "response.json().keys()"
   ]
  },
  {
   "cell_type": "code",
   "execution_count": null,
   "id": "267262a8",
   "metadata": {},
   "outputs": [],
   "source": [
    "response.json()['payload']"
   ]
  },
  {
   "cell_type": "code",
   "execution_count": null,
   "id": "7840341f",
   "metadata": {},
   "outputs": [],
   "source": [
    "data = response.json()['payload']\n",
    "data"
   ]
  },
  {
   "cell_type": "code",
   "execution_count": null,
   "id": "a3e828b0",
   "metadata": {},
   "outputs": [],
   "source": [
    "data['next_page']"
   ]
  },
  {
   "cell_type": "code",
   "execution_count": null,
   "id": "5bb27436",
   "metadata": {},
   "outputs": [],
   "source": [
    "data.keys()"
   ]
  },
  {
   "cell_type": "code",
   "execution_count": null,
   "id": "befcc138",
   "metadata": {},
   "outputs": [],
   "source": [
    "data['sales']"
   ]
  },
  {
   "cell_type": "code",
   "execution_count": null,
   "id": "5abf931d",
   "metadata": {},
   "outputs": [],
   "source": [
    "sales = pd.DataFrame(data['sales'])\n",
    "sales"
   ]
  },
  {
   "cell_type": "code",
   "execution_count": null,
   "id": "143a8020",
   "metadata": {},
   "outputs": [],
   "source": [
    "requests.get(base_url + data['next_page']).json()['payload']['sales']"
   ]
  },
  {
   "cell_type": "code",
   "execution_count": null,
   "id": "cd5e0e25",
   "metadata": {},
   "outputs": [],
   "source": [
    "pd.DataFrame(requests.get(base_url + data['next_page']).json()['payload']['sales'])"
   ]
  },
  {
   "cell_type": "code",
   "execution_count": null,
   "id": "56c025f7",
   "metadata": {
    "scrolled": true
   },
   "outputs": [],
   "source": [
    "pd.concat([sales, pd.DataFrame(requests.get(base_url + data['next_page']).json()['payload']['sales'])])"
   ]
  },
  {
   "cell_type": "code",
   "execution_count": null,
   "id": "44abfb12",
   "metadata": {},
   "outputs": [],
   "source": [
    "url = 'https://python.zgulde.net/api/v1/sales'\n",
    "base_url = 'https://python.zgulde.net'\n",
    "response = requests.get(url)\n",
    "data = response.json()['payload']\n",
    "sales = pd.DataFrame(data['sales'])\n",
    "\n",
    "for n in range(1,2):\n",
    "    df = pd.DataFrame(requests.get(base_url + data['next_page']).json()['payload']['sales'])\n",
    "    sales = pd.concat([sales, df])\n",
    "    \n",
    "sales.shape"
   ]
  },
  {
   "cell_type": "code",
   "execution_count": null,
   "id": "c031ebef",
   "metadata": {},
   "outputs": [],
   "source": [
    "df = get_api_data('sales')\n",
    "sales = df\n",
    "sales.shape"
   ]
  },
  {
   "cell_type": "markdown",
   "id": "2d0bcc64",
   "metadata": {},
   "source": [
    "## <font color = 'blue'>4. Save the data in your files to local csv files so that it will be faster to access in the future."
   ]
  },
  {
   "cell_type": "code",
   "execution_count": null,
   "id": "41bccd96",
   "metadata": {},
   "outputs": [],
   "source": [
    "import os\n",
    "file = 'sales.csv'\n",
    "if os.path.isfile(file):\n",
    "    sales = pd.read_csv(file, index_col=0)\n",
    "else:\n",
    "    url = 'https://python.zgulde.net/api/v1/sales'\n",
    "    base_url = 'https://python.zgulde.net'\n",
    "    response = requests.get(url)\n",
    "    data = response.json()['payload']\n",
    "    sales = pd.DataFrame(data['sales'])\n",
    "    for n in range(data[1,'max_page']):\n",
    "        df = pd.DataFrame(requests.get(base_url + data['next_page']).json()['payload']['sales'])\n",
    "        sales = pd.concat([sales, df])\n",
    "        \n",
    "sales.reset_index(drop=True)\n",
    "sales.to_csv(file)\n",
    "sales.shape"
   ]
  },
  {
   "cell_type": "code",
   "execution_count": null,
   "id": "3d1f95f2",
   "metadata": {},
   "outputs": [],
   "source": [
    "items.to_csv('items.csv')\n",
    "stores.to_csv('stores.csv')"
   ]
  },
  {
   "cell_type": "markdown",
   "id": "234f4c53",
   "metadata": {},
   "source": [
    "## <font color = 'blue'>5. Combine the data from your three separate dataframes into one large dataframe."
   ]
  },
  {
   "cell_type": "code",
   "execution_count": null,
   "id": "00e4ebe7",
   "metadata": {},
   "outputs": [],
   "source": [
    "stores.head()"
   ]
  },
  {
   "cell_type": "code",
   "execution_count": null,
   "id": "58792909",
   "metadata": {},
   "outputs": [],
   "source": [
    "stores.store_id.value_counts()"
   ]
  },
  {
   "cell_type": "code",
   "execution_count": null,
   "id": "750798fb",
   "metadata": {},
   "outputs": [],
   "source": [
    "sales.head()"
   ]
  },
  {
   "cell_type": "code",
   "execution_count": null,
   "id": "4fc4d90e",
   "metadata": {
    "scrolled": true
   },
   "outputs": [],
   "source": [
    "sales.store.value_counts()"
   ]
  },
  {
   "cell_type": "code",
   "execution_count": null,
   "id": "896b839b",
   "metadata": {},
   "outputs": [],
   "source": [
    "sales.item.value_counts()"
   ]
  },
  {
   "cell_type": "code",
   "execution_count": null,
   "id": "065c7cfd",
   "metadata": {},
   "outputs": [],
   "source": [
    "items.head()"
   ]
  },
  {
   "cell_type": "code",
   "execution_count": null,
   "id": "08d8100d",
   "metadata": {},
   "outputs": [],
   "source": [
    "stores_sales = pd.merge(sales, stores, how='left', left_on='store', right_on='store_id')\n",
    "stores_sales.head()"
   ]
  },
  {
   "cell_type": "code",
   "execution_count": null,
   "id": "aff8aeb5",
   "metadata": {},
   "outputs": [],
   "source": [
    "stores_sales_items = pd.merge(stores_sales, items, how='left', left_on='item', right_on='item_id')\n",
    "stores_sales_items.head()"
   ]
  },
  {
   "cell_type": "code",
   "execution_count": 1,
   "id": "48deb8dc",
   "metadata": {},
   "outputs": [
    {
     "data": {
      "text/plain": [
       "(50, 6)"
      ]
     },
     "execution_count": 1,
     "metadata": {},
     "output_type": "execute_result"
    }
   ],
   "source": [
    "import acquire\n",
    "df = acquire.get_api_data('items')\n",
    "items = df\n",
    "items.shape"
   ]
  },
  {
   "cell_type": "code",
   "execution_count": 2,
   "id": "4d63a1cb",
   "metadata": {},
   "outputs": [
    {
     "data": {
      "text/html": [
       "<div>\n",
       "<style scoped>\n",
       "    .dataframe tbody tr th:only-of-type {\n",
       "        vertical-align: middle;\n",
       "    }\n",
       "\n",
       "    .dataframe tbody tr th {\n",
       "        vertical-align: top;\n",
       "    }\n",
       "\n",
       "    .dataframe thead th {\n",
       "        text-align: right;\n",
       "    }\n",
       "</style>\n",
       "<table border=\"1\" class=\"dataframe\">\n",
       "  <thead>\n",
       "    <tr style=\"text-align: right;\">\n",
       "      <th></th>\n",
       "      <th>item_brand</th>\n",
       "      <th>item_id</th>\n",
       "      <th>item_name</th>\n",
       "      <th>item_price</th>\n",
       "      <th>item_upc12</th>\n",
       "      <th>item_upc14</th>\n",
       "    </tr>\n",
       "  </thead>\n",
       "  <tbody>\n",
       "    <tr>\n",
       "      <th>0</th>\n",
       "      <td>Riceland</td>\n",
       "      <td>1</td>\n",
       "      <td>Riceland American Jazmine Rice</td>\n",
       "      <td>0.84</td>\n",
       "      <td>35200264013</td>\n",
       "      <td>35200264013</td>\n",
       "    </tr>\n",
       "    <tr>\n",
       "      <th>1</th>\n",
       "      <td>Caress</td>\n",
       "      <td>2</td>\n",
       "      <td>Caress Velvet Bliss Ultra Silkening Beauty Bar...</td>\n",
       "      <td>6.44</td>\n",
       "      <td>11111065925</td>\n",
       "      <td>11111065925</td>\n",
       "    </tr>\n",
       "    <tr>\n",
       "      <th>2</th>\n",
       "      <td>Earths Best</td>\n",
       "      <td>3</td>\n",
       "      <td>Earths Best Organic Fruit Yogurt Smoothie Mixe...</td>\n",
       "      <td>2.43</td>\n",
       "      <td>23923330139</td>\n",
       "      <td>23923330139</td>\n",
       "    </tr>\n",
       "    <tr>\n",
       "      <th>3</th>\n",
       "      <td>Boars Head</td>\n",
       "      <td>4</td>\n",
       "      <td>Boars Head Sliced White American Cheese - 120 Ct</td>\n",
       "      <td>3.14</td>\n",
       "      <td>208528800007</td>\n",
       "      <td>208528800007</td>\n",
       "    </tr>\n",
       "    <tr>\n",
       "      <th>4</th>\n",
       "      <td>Back To Nature</td>\n",
       "      <td>5</td>\n",
       "      <td>Back To Nature Gluten Free White Cheddar Rice ...</td>\n",
       "      <td>2.61</td>\n",
       "      <td>759283100036</td>\n",
       "      <td>759283100036</td>\n",
       "    </tr>\n",
       "  </tbody>\n",
       "</table>\n",
       "</div>"
      ],
      "text/plain": [
       "       item_brand  item_id                                          item_name  \\\n",
       "0        Riceland        1                     Riceland American Jazmine Rice   \n",
       "1          Caress        2  Caress Velvet Bliss Ultra Silkening Beauty Bar...   \n",
       "2     Earths Best        3  Earths Best Organic Fruit Yogurt Smoothie Mixe...   \n",
       "3      Boars Head        4   Boars Head Sliced White American Cheese - 120 Ct   \n",
       "4  Back To Nature        5  Back To Nature Gluten Free White Cheddar Rice ...   \n",
       "\n",
       "   item_price    item_upc12    item_upc14  \n",
       "0        0.84   35200264013   35200264013  \n",
       "1        6.44   11111065925   11111065925  \n",
       "2        2.43   23923330139   23923330139  \n",
       "3        3.14  208528800007  208528800007  \n",
       "4        2.61  759283100036  759283100036  "
      ]
     },
     "execution_count": 2,
     "metadata": {},
     "output_type": "execute_result"
    }
   ],
   "source": [
    "items.head()"
   ]
  },
  {
   "cell_type": "code",
   "execution_count": 5,
   "id": "67671970",
   "metadata": {},
   "outputs": [
    {
     "data": {
      "text/plain": [
       "(50, 6)"
      ]
     },
     "execution_count": 5,
     "metadata": {},
     "output_type": "execute_result"
    }
   ],
   "source": [
    "df = acquire.get_api_data(endpoint='stores')\n",
    "stores = df\n",
    "stores.shape"
   ]
  },
  {
   "cell_type": "code",
   "execution_count": 6,
   "id": "d0d6f33b",
   "metadata": {},
   "outputs": [
    {
     "data": {
      "text/html": [
       "<div>\n",
       "<style scoped>\n",
       "    .dataframe tbody tr th:only-of-type {\n",
       "        vertical-align: middle;\n",
       "    }\n",
       "\n",
       "    .dataframe tbody tr th {\n",
       "        vertical-align: top;\n",
       "    }\n",
       "\n",
       "    .dataframe thead th {\n",
       "        text-align: right;\n",
       "    }\n",
       "</style>\n",
       "<table border=\"1\" class=\"dataframe\">\n",
       "  <thead>\n",
       "    <tr style=\"text-align: right;\">\n",
       "      <th></th>\n",
       "      <th>item_brand</th>\n",
       "      <th>item_id</th>\n",
       "      <th>item_name</th>\n",
       "      <th>item_price</th>\n",
       "      <th>item_upc12</th>\n",
       "      <th>item_upc14</th>\n",
       "    </tr>\n",
       "  </thead>\n",
       "  <tbody>\n",
       "    <tr>\n",
       "      <th>0</th>\n",
       "      <td>Riceland</td>\n",
       "      <td>1</td>\n",
       "      <td>Riceland American Jazmine Rice</td>\n",
       "      <td>0.84</td>\n",
       "      <td>35200264013</td>\n",
       "      <td>35200264013</td>\n",
       "    </tr>\n",
       "    <tr>\n",
       "      <th>1</th>\n",
       "      <td>Caress</td>\n",
       "      <td>2</td>\n",
       "      <td>Caress Velvet Bliss Ultra Silkening Beauty Bar...</td>\n",
       "      <td>6.44</td>\n",
       "      <td>11111065925</td>\n",
       "      <td>11111065925</td>\n",
       "    </tr>\n",
       "    <tr>\n",
       "      <th>2</th>\n",
       "      <td>Earths Best</td>\n",
       "      <td>3</td>\n",
       "      <td>Earths Best Organic Fruit Yogurt Smoothie Mixe...</td>\n",
       "      <td>2.43</td>\n",
       "      <td>23923330139</td>\n",
       "      <td>23923330139</td>\n",
       "    </tr>\n",
       "    <tr>\n",
       "      <th>3</th>\n",
       "      <td>Boars Head</td>\n",
       "      <td>4</td>\n",
       "      <td>Boars Head Sliced White American Cheese - 120 Ct</td>\n",
       "      <td>3.14</td>\n",
       "      <td>208528800007</td>\n",
       "      <td>208528800007</td>\n",
       "    </tr>\n",
       "    <tr>\n",
       "      <th>4</th>\n",
       "      <td>Back To Nature</td>\n",
       "      <td>5</td>\n",
       "      <td>Back To Nature Gluten Free White Cheddar Rice ...</td>\n",
       "      <td>2.61</td>\n",
       "      <td>759283100036</td>\n",
       "      <td>759283100036</td>\n",
       "    </tr>\n",
       "  </tbody>\n",
       "</table>\n",
       "</div>"
      ],
      "text/plain": [
       "       item_brand  item_id                                          item_name  \\\n",
       "0        Riceland        1                     Riceland American Jazmine Rice   \n",
       "1          Caress        2  Caress Velvet Bliss Ultra Silkening Beauty Bar...   \n",
       "2     Earths Best        3  Earths Best Organic Fruit Yogurt Smoothie Mixe...   \n",
       "3      Boars Head        4   Boars Head Sliced White American Cheese - 120 Ct   \n",
       "4  Back To Nature        5  Back To Nature Gluten Free White Cheddar Rice ...   \n",
       "\n",
       "   item_price    item_upc12    item_upc14  \n",
       "0        0.84   35200264013   35200264013  \n",
       "1        6.44   11111065925   11111065925  \n",
       "2        2.43   23923330139   23923330139  \n",
       "3        3.14  208528800007  208528800007  \n",
       "4        2.61  759283100036  759283100036  "
      ]
     },
     "execution_count": 6,
     "metadata": {},
     "output_type": "execute_result"
    }
   ],
   "source": [
    "stores.head()"
   ]
  },
  {
   "cell_type": "code",
   "execution_count": null,
   "id": "eed14503",
   "metadata": {},
   "outputs": [],
   "source": [
    "df = acquire.get_api_data(endpoint='sales')\n",
    "sales = df\n",
    "sales.shape"
   ]
  },
  {
   "cell_type": "code",
   "execution_count": null,
   "id": "53c9138e",
   "metadata": {},
   "outputs": [],
   "source": [
    "sales.shape, stores.shape, items.shape"
   ]
  },
  {
   "cell_type": "code",
   "execution_count": null,
   "id": "4ed4d593",
   "metadata": {},
   "outputs": [],
   "source": [
    "stores_sales_items = acquire.stores_sales_items(sales, stores, items)\n",
    "stores_sales_items.shape"
   ]
  },
  {
   "cell_type": "markdown",
   "id": "5ab0995d",
   "metadata": {},
   "source": [
    "6. Acquire the Open Power Systems Data for Germany, which has been rapidly expanding its renewable energy production in recent years. The data set includes country-wide totals of electricity consumption, wind power production, and solar power production for 2006-2017. You can get the data here: https://raw.githubusercontent.com/jenfly/opsd/master/opsd_germany_daily.csv"
   ]
  },
  {
   "cell_type": "code",
   "execution_count": null,
   "id": "10da6703",
   "metadata": {},
   "outputs": [],
   "source": [
    "url = \"https://raw.githubusercontent.com/jenfly/opsd/master/opsd_germany_daily.csv\"\n",
    "df = pd.read_csv(url)\n",
    "df.head()   "
   ]
  },
  {
   "cell_type": "code",
   "execution_count": null,
   "id": "ab305b6f",
   "metadata": {},
   "outputs": [],
   "source": [
    "df.info"
   ]
  },
  {
   "cell_type": "code",
   "execution_count": null,
   "id": "a2ee9125",
   "metadata": {},
   "outputs": [],
   "source": [
    "df.isna().sum()"
   ]
  },
  {
   "cell_type": "markdown",
   "id": "ad9fbf4b",
   "metadata": {},
   "source": [
    "7. Make sure all the work that you have done above is reproducible. That is, you should put the code above into separate functions in the acquire.py file and be able to re-run the functions and get the same data."
   ]
  }
 ],
 "metadata": {
  "kernelspec": {
   "display_name": "Python 3",
   "language": "python",
   "name": "python3"
  },
  "language_info": {
   "codemirror_mode": {
    "name": "ipython",
    "version": 3
   },
   "file_extension": ".py",
   "mimetype": "text/x-python",
   "name": "python",
   "nbconvert_exporter": "python",
   "pygments_lexer": "ipython3",
   "version": "3.8.8"
  }
 },
 "nbformat": 4,
 "nbformat_minor": 5
}
